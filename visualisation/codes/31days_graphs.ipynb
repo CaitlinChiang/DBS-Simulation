{
 "cells": [
  {
   "cell_type": "markdown",
   "metadata": {},
   "source": [
    "## Baseline"
   ]
  },
  {
   "cell_type": "code",
   "execution_count": 15,
   "metadata": {},
   "outputs": [
    {
     "data": {
      "application/vnd.plotly.v1+json": {
       "config": {
        "plotlyServerURL": "https://plot.ly"
       },
       "data": [
        {
         "mode": "lines+markers",
         "name": "LOCAL_ELDERLY",
         "text": [
          "36.36",
          "31.53",
          "46.17",
          "44.03",
          "53.13",
          "25.71",
          "47.08",
          "41.93",
          "59.64",
          "37.38",
          "31.08",
          "21.52",
          "31.62",
          "50.71",
          "54.75",
          "31.26",
          "45.63",
          "24.90",
          "62.92",
          "41.26",
          "74.12",
          "36.38",
          "17.53",
          "39.65",
          "29.71",
          "27.08",
          "23.07",
          "35.24",
          "72.96",
          "19.17",
          "nan"
         ],
         "textposition": "top center",
         "type": "scatter",
         "x": [
          "Day 1",
          "Day 2",
          "Day 3",
          "Day 4",
          "Day 5",
          "Day 6",
          "Day 7",
          "Day 8",
          "Day 9",
          "Day 10",
          "Day 11",
          "Day 12",
          "Day 13",
          "Day 14",
          "Day 15",
          "Day 16",
          "Day 17",
          "Day 18",
          "Day 19",
          "Day 20",
          "Day 21",
          "Day 22",
          "Day 23",
          "Day 24",
          "Day 25",
          "Day 26",
          "Day 27",
          "Day 28",
          "Day 29",
          "Day 30",
          "Day 31"
         ],
         "y": [
          36.36471763314478,
          31.528568737871062,
          46.168879796292075,
          44.03465993589558,
          53.1265362566903,
          25.708502868659117,
          47.07653552874141,
          41.92919259049774,
          59.640416730260476,
          37.378817042011484,
          31.084455667788998,
          21.52361264371068,
          31.6198198502886,
          50.71088376643932,
          54.74594907407408,
          31.25835841113619,
          45.62640542328042,
          24.896306818181817,
          62.91695601851851,
          41.263868847202176,
          74.1238425925926,
          36.3828125,
          17.529761904761905,
          39.6468253968254,
          29.707231040564373,
          27.07506613756614,
          23.072834829779275,
          35.23765432098766,
          72.96296296296298,
          19.166666666666664,
          null
         ]
        },
        {
         "mode": "lines+markers",
         "name": "LOCAL_ADULT",
         "text": [
          "32.01",
          "29.77",
          "44.26",
          "54.08",
          "43.27",
          "26.58",
          "50.36",
          "27.76",
          "56.93",
          "25.34",
          "21.30",
          "17.74",
          "63.25",
          "38.59",
          "28.34",
          "13.28",
          "38.85",
          "34.28",
          "71.86",
          "37.49",
          "64.21",
          "14.32",
          "36.18",
          "28.29",
          "17.56",
          "19.80",
          "41.42",
          "9.44",
          "16.22",
          "56.32",
          "nan"
         ],
         "textposition": "top center",
         "type": "scatter",
         "x": [
          "Day 1",
          "Day 2",
          "Day 3",
          "Day 4",
          "Day 5",
          "Day 6",
          "Day 7",
          "Day 8",
          "Day 9",
          "Day 10",
          "Day 11",
          "Day 12",
          "Day 13",
          "Day 14",
          "Day 15",
          "Day 16",
          "Day 17",
          "Day 18",
          "Day 19",
          "Day 20",
          "Day 21",
          "Day 22",
          "Day 23",
          "Day 24",
          "Day 25",
          "Day 26",
          "Day 27",
          "Day 28",
          "Day 29",
          "Day 30",
          "Day 31"
         ],
         "y": [
          32.01286914946647,
          29.767706918108964,
          44.26426883230288,
          54.07865528568654,
          43.26610604443207,
          26.582368249034918,
          50.35851879601879,
          27.760711692084246,
          56.92980938814272,
          25.3383021299688,
          21.29570840681952,
          17.742619520397295,
          63.253637566137556,
          38.59343998015873,
          28.343634760301427,
          13.283482142857142,
          38.850088183421526,
          34.28086419753087,
          71.85515873015873,
          37.49454365079365,
          64.20748299319727,
          14.316945914168137,
          36.18220899470899,
          28.286125140291805,
          17.560258671369784,
          19.802469135802472,
          41.416666666666664,
          9.441798941798943,
          16.21553497942387,
          56.320105820105816,
          null
         ]
        },
        {
         "mode": "lines+markers",
         "name": "FOREIGNER",
         "text": [
          "91.57",
          "48.85",
          "10.99",
          "50.42",
          "9.17",
          "9.17",
          "61.25",
          "27.22",
          "8.56",
          "44.00",
          "9.17",
          "9.17",
          "44.80",
          "nan",
          "60.00",
          "9.17",
          "9.17",
          "119.17",
          "80.00",
          "16.51",
          "39.78",
          "nan",
          "9.73",
          "nan",
          "9.17",
          "nan",
          "60.24",
          "9.17",
          "113.57",
          "54.17",
          "nan"
         ],
         "textposition": "top center",
         "type": "scatter",
         "x": [
          "Day 1",
          "Day 2",
          "Day 3",
          "Day 4",
          "Day 5",
          "Day 6",
          "Day 7",
          "Day 8",
          "Day 9",
          "Day 10",
          "Day 11",
          "Day 12",
          "Day 13",
          "Day 14",
          "Day 15",
          "Day 16",
          "Day 17",
          "Day 18",
          "Day 19",
          "Day 20",
          "Day 21",
          "Day 22",
          "Day 23",
          "Day 24",
          "Day 25",
          "Day 26",
          "Day 27",
          "Day 28",
          "Day 29",
          "Day 30",
          "Day 31"
         ],
         "y": [
          91.57407407407408,
          48.84722222222222,
          10.989583333333334,
          50.416666666666664,
          9.166666666666666,
          9.166666666666666,
          61.25,
          27.22222222222222,
          8.564814814814813,
          44,
          9.166666666666666,
          9.166666666666666,
          44.79938271604939,
          null,
          59.99999999999999,
          9.166666666666666,
          9.166666666666666,
          119.16666666666666,
          80,
          16.510416666666668,
          39.78395061728395,
          null,
          9.732142857142858,
          null,
          9.166666666666666,
          null,
          60.24305555555556,
          9.166666666666666,
          113.57142857142858,
          54.166666666666664,
          null
         ]
        },
        {
         "mode": "lines+markers",
         "name": "Average of All Demographics",
         "text": [
          "53.32",
          "34.91",
          "33.40",
          "45.64",
          "33.83",
          "17.50",
          "46.49",
          "30.75",
          "38.55",
          "29.05",
          "19.16",
          "16.14",
          "43.04",
          "28.34",
          "34.56",
          "17.07",
          "28.51",
          "49.70",
          "55.60",
          "29.76",
          "46.38",
          "15.55",
          "19.13",
          "19.71",
          "18.13",
          "14.62",
          "34.74",
          "16.93",
          "51.06",
          "37.04",
          "nan"
         ],
         "textposition": "top center",
         "type": "scatter",
         "x": [
          "Day 1",
          "Day 2",
          "Day 3",
          "Day 4",
          "Day 5",
          "Day 6",
          "Day 7",
          "Day 8",
          "Day 9",
          "Day 10",
          "Day 11",
          "Day 12",
          "Day 13",
          "Day 14",
          "Day 15",
          "Day 16",
          "Day 17",
          "Day 18",
          "Day 19",
          "Day 20",
          "Day 21",
          "Day 22",
          "Day 23",
          "Day 24",
          "Day 25",
          "Day 26",
          "Day 27",
          "Day 28",
          "Day 29",
          "Day 30",
          "Day 31"
         ],
         "y": [
          53.31722222222222,
          34.905388888888886,
          33.400555555555556,
          45.63981481481481,
          33.82840740740741,
          17.49666666666667,
          46.49283333333334,
          30.751092592592588,
          38.55111111111111,
          29.05385185185185,
          19.157574074074077,
          16.144296296296297,
          43.04379629629629,
          28.3387037037037,
          34.55781481481482,
          17.07135185185185,
          28.506018518518513,
          49.69872222222223,
          55.60277083333333,
          29.75611111111111,
          46.37964814814814,
          15.552407407407406,
          19.12864814814815,
          19.7075,
          18.13237037037037,
          14.623055555555556,
          34.74442592592593,
          16.930185185185184,
          51.06361111111111,
          37.03977777777778,
          null
         ]
        }
       ],
       "layout": {
        "legend": {
         "title": {
          "text": "Demographic"
         }
        },
        "template": {
         "data": {
          "bar": [
           {
            "error_x": {
             "color": "#2a3f5f"
            },
            "error_y": {
             "color": "#2a3f5f"
            },
            "marker": {
             "line": {
              "color": "white",
              "width": 0.5
             },
             "pattern": {
              "fillmode": "overlay",
              "size": 10,
              "solidity": 0.2
             }
            },
            "type": "bar"
           }
          ],
          "barpolar": [
           {
            "marker": {
             "line": {
              "color": "white",
              "width": 0.5
             },
             "pattern": {
              "fillmode": "overlay",
              "size": 10,
              "solidity": 0.2
             }
            },
            "type": "barpolar"
           }
          ],
          "carpet": [
           {
            "aaxis": {
             "endlinecolor": "#2a3f5f",
             "gridcolor": "#C8D4E3",
             "linecolor": "#C8D4E3",
             "minorgridcolor": "#C8D4E3",
             "startlinecolor": "#2a3f5f"
            },
            "baxis": {
             "endlinecolor": "#2a3f5f",
             "gridcolor": "#C8D4E3",
             "linecolor": "#C8D4E3",
             "minorgridcolor": "#C8D4E3",
             "startlinecolor": "#2a3f5f"
            },
            "type": "carpet"
           }
          ],
          "choropleth": [
           {
            "colorbar": {
             "outlinewidth": 0,
             "ticks": ""
            },
            "type": "choropleth"
           }
          ],
          "contour": [
           {
            "colorbar": {
             "outlinewidth": 0,
             "ticks": ""
            },
            "colorscale": [
             [
              0,
              "#0d0887"
             ],
             [
              0.1111111111111111,
              "#46039f"
             ],
             [
              0.2222222222222222,
              "#7201a8"
             ],
             [
              0.3333333333333333,
              "#9c179e"
             ],
             [
              0.4444444444444444,
              "#bd3786"
             ],
             [
              0.5555555555555556,
              "#d8576b"
             ],
             [
              0.6666666666666666,
              "#ed7953"
             ],
             [
              0.7777777777777778,
              "#fb9f3a"
             ],
             [
              0.8888888888888888,
              "#fdca26"
             ],
             [
              1,
              "#f0f921"
             ]
            ],
            "type": "contour"
           }
          ],
          "contourcarpet": [
           {
            "colorbar": {
             "outlinewidth": 0,
             "ticks": ""
            },
            "type": "contourcarpet"
           }
          ],
          "heatmap": [
           {
            "colorbar": {
             "outlinewidth": 0,
             "ticks": ""
            },
            "colorscale": [
             [
              0,
              "#0d0887"
             ],
             [
              0.1111111111111111,
              "#46039f"
             ],
             [
              0.2222222222222222,
              "#7201a8"
             ],
             [
              0.3333333333333333,
              "#9c179e"
             ],
             [
              0.4444444444444444,
              "#bd3786"
             ],
             [
              0.5555555555555556,
              "#d8576b"
             ],
             [
              0.6666666666666666,
              "#ed7953"
             ],
             [
              0.7777777777777778,
              "#fb9f3a"
             ],
             [
              0.8888888888888888,
              "#fdca26"
             ],
             [
              1,
              "#f0f921"
             ]
            ],
            "type": "heatmap"
           }
          ],
          "heatmapgl": [
           {
            "colorbar": {
             "outlinewidth": 0,
             "ticks": ""
            },
            "colorscale": [
             [
              0,
              "#0d0887"
             ],
             [
              0.1111111111111111,
              "#46039f"
             ],
             [
              0.2222222222222222,
              "#7201a8"
             ],
             [
              0.3333333333333333,
              "#9c179e"
             ],
             [
              0.4444444444444444,
              "#bd3786"
             ],
             [
              0.5555555555555556,
              "#d8576b"
             ],
             [
              0.6666666666666666,
              "#ed7953"
             ],
             [
              0.7777777777777778,
              "#fb9f3a"
             ],
             [
              0.8888888888888888,
              "#fdca26"
             ],
             [
              1,
              "#f0f921"
             ]
            ],
            "type": "heatmapgl"
           }
          ],
          "histogram": [
           {
            "marker": {
             "pattern": {
              "fillmode": "overlay",
              "size": 10,
              "solidity": 0.2
             }
            },
            "type": "histogram"
           }
          ],
          "histogram2d": [
           {
            "colorbar": {
             "outlinewidth": 0,
             "ticks": ""
            },
            "colorscale": [
             [
              0,
              "#0d0887"
             ],
             [
              0.1111111111111111,
              "#46039f"
             ],
             [
              0.2222222222222222,
              "#7201a8"
             ],
             [
              0.3333333333333333,
              "#9c179e"
             ],
             [
              0.4444444444444444,
              "#bd3786"
             ],
             [
              0.5555555555555556,
              "#d8576b"
             ],
             [
              0.6666666666666666,
              "#ed7953"
             ],
             [
              0.7777777777777778,
              "#fb9f3a"
             ],
             [
              0.8888888888888888,
              "#fdca26"
             ],
             [
              1,
              "#f0f921"
             ]
            ],
            "type": "histogram2d"
           }
          ],
          "histogram2dcontour": [
           {
            "colorbar": {
             "outlinewidth": 0,
             "ticks": ""
            },
            "colorscale": [
             [
              0,
              "#0d0887"
             ],
             [
              0.1111111111111111,
              "#46039f"
             ],
             [
              0.2222222222222222,
              "#7201a8"
             ],
             [
              0.3333333333333333,
              "#9c179e"
             ],
             [
              0.4444444444444444,
              "#bd3786"
             ],
             [
              0.5555555555555556,
              "#d8576b"
             ],
             [
              0.6666666666666666,
              "#ed7953"
             ],
             [
              0.7777777777777778,
              "#fb9f3a"
             ],
             [
              0.8888888888888888,
              "#fdca26"
             ],
             [
              1,
              "#f0f921"
             ]
            ],
            "type": "histogram2dcontour"
           }
          ],
          "mesh3d": [
           {
            "colorbar": {
             "outlinewidth": 0,
             "ticks": ""
            },
            "type": "mesh3d"
           }
          ],
          "parcoords": [
           {
            "line": {
             "colorbar": {
              "outlinewidth": 0,
              "ticks": ""
             }
            },
            "type": "parcoords"
           }
          ],
          "pie": [
           {
            "automargin": true,
            "type": "pie"
           }
          ],
          "scatter": [
           {
            "fillpattern": {
             "fillmode": "overlay",
             "size": 10,
             "solidity": 0.2
            },
            "type": "scatter"
           }
          ],
          "scatter3d": [
           {
            "line": {
             "colorbar": {
              "outlinewidth": 0,
              "ticks": ""
             }
            },
            "marker": {
             "colorbar": {
              "outlinewidth": 0,
              "ticks": ""
             }
            },
            "type": "scatter3d"
           }
          ],
          "scattercarpet": [
           {
            "marker": {
             "colorbar": {
              "outlinewidth": 0,
              "ticks": ""
             }
            },
            "type": "scattercarpet"
           }
          ],
          "scattergeo": [
           {
            "marker": {
             "colorbar": {
              "outlinewidth": 0,
              "ticks": ""
             }
            },
            "type": "scattergeo"
           }
          ],
          "scattergl": [
           {
            "marker": {
             "colorbar": {
              "outlinewidth": 0,
              "ticks": ""
             }
            },
            "type": "scattergl"
           }
          ],
          "scattermapbox": [
           {
            "marker": {
             "colorbar": {
              "outlinewidth": 0,
              "ticks": ""
             }
            },
            "type": "scattermapbox"
           }
          ],
          "scatterpolar": [
           {
            "marker": {
             "colorbar": {
              "outlinewidth": 0,
              "ticks": ""
             }
            },
            "type": "scatterpolar"
           }
          ],
          "scatterpolargl": [
           {
            "marker": {
             "colorbar": {
              "outlinewidth": 0,
              "ticks": ""
             }
            },
            "type": "scatterpolargl"
           }
          ],
          "scatterternary": [
           {
            "marker": {
             "colorbar": {
              "outlinewidth": 0,
              "ticks": ""
             }
            },
            "type": "scatterternary"
           }
          ],
          "surface": [
           {
            "colorbar": {
             "outlinewidth": 0,
             "ticks": ""
            },
            "colorscale": [
             [
              0,
              "#0d0887"
             ],
             [
              0.1111111111111111,
              "#46039f"
             ],
             [
              0.2222222222222222,
              "#7201a8"
             ],
             [
              0.3333333333333333,
              "#9c179e"
             ],
             [
              0.4444444444444444,
              "#bd3786"
             ],
             [
              0.5555555555555556,
              "#d8576b"
             ],
             [
              0.6666666666666666,
              "#ed7953"
             ],
             [
              0.7777777777777778,
              "#fb9f3a"
             ],
             [
              0.8888888888888888,
              "#fdca26"
             ],
             [
              1,
              "#f0f921"
             ]
            ],
            "type": "surface"
           }
          ],
          "table": [
           {
            "cells": {
             "fill": {
              "color": "#EBF0F8"
             },
             "line": {
              "color": "white"
             }
            },
            "header": {
             "fill": {
              "color": "#C8D4E3"
             },
             "line": {
              "color": "white"
             }
            },
            "type": "table"
           }
          ]
         },
         "layout": {
          "annotationdefaults": {
           "arrowcolor": "#2a3f5f",
           "arrowhead": 0,
           "arrowwidth": 1
          },
          "autotypenumbers": "strict",
          "coloraxis": {
           "colorbar": {
            "outlinewidth": 0,
            "ticks": ""
           }
          },
          "colorscale": {
           "diverging": [
            [
             0,
             "#8e0152"
            ],
            [
             0.1,
             "#c51b7d"
            ],
            [
             0.2,
             "#de77ae"
            ],
            [
             0.3,
             "#f1b6da"
            ],
            [
             0.4,
             "#fde0ef"
            ],
            [
             0.5,
             "#f7f7f7"
            ],
            [
             0.6,
             "#e6f5d0"
            ],
            [
             0.7,
             "#b8e186"
            ],
            [
             0.8,
             "#7fbc41"
            ],
            [
             0.9,
             "#4d9221"
            ],
            [
             1,
             "#276419"
            ]
           ],
           "sequential": [
            [
             0,
             "#0d0887"
            ],
            [
             0.1111111111111111,
             "#46039f"
            ],
            [
             0.2222222222222222,
             "#7201a8"
            ],
            [
             0.3333333333333333,
             "#9c179e"
            ],
            [
             0.4444444444444444,
             "#bd3786"
            ],
            [
             0.5555555555555556,
             "#d8576b"
            ],
            [
             0.6666666666666666,
             "#ed7953"
            ],
            [
             0.7777777777777778,
             "#fb9f3a"
            ],
            [
             0.8888888888888888,
             "#fdca26"
            ],
            [
             1,
             "#f0f921"
            ]
           ],
           "sequentialminus": [
            [
             0,
             "#0d0887"
            ],
            [
             0.1111111111111111,
             "#46039f"
            ],
            [
             0.2222222222222222,
             "#7201a8"
            ],
            [
             0.3333333333333333,
             "#9c179e"
            ],
            [
             0.4444444444444444,
             "#bd3786"
            ],
            [
             0.5555555555555556,
             "#d8576b"
            ],
            [
             0.6666666666666666,
             "#ed7953"
            ],
            [
             0.7777777777777778,
             "#fb9f3a"
            ],
            [
             0.8888888888888888,
             "#fdca26"
            ],
            [
             1,
             "#f0f921"
            ]
           ]
          },
          "colorway": [
           "#636efa",
           "#EF553B",
           "#00cc96",
           "#ab63fa",
           "#FFA15A",
           "#19d3f3",
           "#FF6692",
           "#B6E880",
           "#FF97FF",
           "#FECB52"
          ],
          "font": {
           "color": "#2a3f5f"
          },
          "geo": {
           "bgcolor": "white",
           "lakecolor": "white",
           "landcolor": "white",
           "showlakes": true,
           "showland": true,
           "subunitcolor": "#C8D4E3"
          },
          "hoverlabel": {
           "align": "left"
          },
          "hovermode": "closest",
          "mapbox": {
           "style": "light"
          },
          "paper_bgcolor": "white",
          "plot_bgcolor": "white",
          "polar": {
           "angularaxis": {
            "gridcolor": "#EBF0F8",
            "linecolor": "#EBF0F8",
            "ticks": ""
           },
           "bgcolor": "white",
           "radialaxis": {
            "gridcolor": "#EBF0F8",
            "linecolor": "#EBF0F8",
            "ticks": ""
           }
          },
          "scene": {
           "xaxis": {
            "backgroundcolor": "white",
            "gridcolor": "#DFE8F3",
            "gridwidth": 2,
            "linecolor": "#EBF0F8",
            "showbackground": true,
            "ticks": "",
            "zerolinecolor": "#EBF0F8"
           },
           "yaxis": {
            "backgroundcolor": "white",
            "gridcolor": "#DFE8F3",
            "gridwidth": 2,
            "linecolor": "#EBF0F8",
            "showbackground": true,
            "ticks": "",
            "zerolinecolor": "#EBF0F8"
           },
           "zaxis": {
            "backgroundcolor": "white",
            "gridcolor": "#DFE8F3",
            "gridwidth": 2,
            "linecolor": "#EBF0F8",
            "showbackground": true,
            "ticks": "",
            "zerolinecolor": "#EBF0F8"
           }
          },
          "shapedefaults": {
           "line": {
            "color": "#2a3f5f"
           }
          },
          "ternary": {
           "aaxis": {
            "gridcolor": "#DFE8F3",
            "linecolor": "#A2B1C6",
            "ticks": ""
           },
           "baxis": {
            "gridcolor": "#DFE8F3",
            "linecolor": "#A2B1C6",
            "ticks": ""
           },
           "bgcolor": "white",
           "caxis": {
            "gridcolor": "#DFE8F3",
            "linecolor": "#A2B1C6",
            "ticks": ""
           }
          },
          "title": {
           "x": 0.05
          },
          "xaxis": {
           "automargin": true,
           "gridcolor": "#EBF0F8",
           "linecolor": "#EBF0F8",
           "ticks": "",
           "title": {
            "standoff": 15
           },
           "zerolinecolor": "#EBF0F8",
           "zerolinewidth": 2
          },
          "yaxis": {
           "automargin": true,
           "gridcolor": "#EBF0F8",
           "linecolor": "#EBF0F8",
           "ticks": "",
           "title": {
            "standoff": 15
           },
           "zerolinecolor": "#EBF0F8",
           "zerolinewidth": 2
          }
         }
        },
        "title": {
         "text": "Baseline"
        },
        "xaxis": {
         "title": {
          "text": "Day"
         }
        },
        "yaxis": {
         "title": {
          "text": "Average Dwell Time (minutes)"
         }
        }
       }
      }
     },
     "metadata": {},
     "output_type": "display_data"
    }
   ],
   "source": [
    "import pandas as pd\n",
    "import plotly.graph_objects as go\n",
    "\n",
    "file_path = 'Baseline_31days.xlsx'\n",
    "xls = pd.ExcelFile(file_path)\n",
    "\n",
    "avg_dwell_times = pd.DataFrame()\n",
    "\n",
    "for sheet_name in xls.sheet_names:\n",
    "    day_data = pd.read_excel(xls, sheet_name=sheet_name)\n",
    "    day_data = day_data.drop(columns=[col for col in day_data.columns if \"Unnamed\" in col])\n",
    "    day_data_filtered = day_data[(day_data['Simulation Hour'] >= 10) & (day_data['Simulation Hour'] <= 20)]\n",
    "    avg_for_day = (day_data_filtered[day_data_filtered > 0].mean().drop('Simulation Hour')) / 60\n",
    "    avg_dwell_times[sheet_name] = avg_for_day\n",
    "\n",
    "avg_dwell_times = avg_dwell_times.T\n",
    "avg_dwell_times = avg_dwell_times.drop('Day 1', errors='ignore')\n",
    "avg_dwell_times.index = [f\"Day {i+1}\" for i in range(len(avg_dwell_times))]\n",
    "\n",
    "fig = go.Figure()\n",
    "\n",
    "for demographic in avg_dwell_times.columns:\n",
    "    text_values = [f\"{value:.2f}\" for value in avg_dwell_times[demographic]]\n",
    "    fig.add_trace(go.Scatter(x=avg_dwell_times.index, y=avg_dwell_times[demographic], text=text_values,\n",
    "                             mode='lines+markers', name=demographic, textposition=\"top center\"))\n",
    "\n",
    "fig.update_layout(title='Baseline',\n",
    "                  xaxis_title='Day',\n",
    "                  yaxis_title='Average Dwell Time (minutes)',\n",
    "                  legend_title='Demographic',\n",
    "                  template='plotly_white')\n",
    "\n",
    "fig.show()"
   ]
  },
  {
   "cell_type": "markdown",
   "metadata": {},
   "source": [
    "## VTM"
   ]
  },
  {
   "cell_type": "code",
   "execution_count": 6,
   "metadata": {},
   "outputs": [
    {
     "data": {
      "application/vnd.plotly.v1+json": {
       "config": {
        "plotlyServerURL": "https://plot.ly"
       },
       "data": [
        {
         "mode": "lines+markers",
         "name": "LOCAL_ELDERLY",
         "text": [
          "54.55",
          "46.80",
          "35.85",
          "54.57",
          "33.02",
          "50.84",
          "50.63",
          "27.93",
          "27.34",
          "30.37",
          "52.18",
          "47.05",
          "47.76",
          "41.89",
          "64.25",
          "31.10",
          "59.73",
          "59.19",
          "72.22",
          "95.53",
          "32.06",
          "78.97",
          "7.36",
          "32.97",
          "28.16",
          "38.78",
          "43.35",
          "46.68",
          "44.71",
          "43.82",
          "nan"
         ],
         "textposition": "top center",
         "type": "scatter",
         "x": [
          "Day 1",
          "Day 2",
          "Day 3",
          "Day 4",
          "Day 5",
          "Day 6",
          "Day 7",
          "Day 8",
          "Day 9",
          "Day 10",
          "Day 11",
          "Day 12",
          "Day 13",
          "Day 14",
          "Day 15",
          "Day 16",
          "Day 17",
          "Day 18",
          "Day 19",
          "Day 20",
          "Day 21",
          "Day 22",
          "Day 23",
          "Day 24",
          "Day 25",
          "Day 26",
          "Day 27",
          "Day 28",
          "Day 29",
          "Day 30",
          "Day 31"
         ],
         "y": [
          54.549663159019886,
          46.80233911303313,
          35.85018147688712,
          54.57312923568538,
          33.01500762611874,
          50.83891828336273,
          50.632275132275126,
          27.93163489035522,
          27.340909090909086,
          30.370610870610868,
          52.17719908476211,
          47.05073696145124,
          47.75817700817701,
          41.89339981006648,
          64.2485119047619,
          31.101116990005885,
          59.72842261904762,
          59.18742985409653,
          72.21693121693121,
          95.52579365079366,
          32.06481481481482,
          78.97453703703704,
          7.361111111111112,
          32.965986394557824,
          28.16358024691358,
          38.78395061728395,
          43.349206349206355,
          46.682098765432094,
          44.7063492063492,
          43.81944444444444,
          null
         ]
        },
        {
         "mode": "lines+markers",
         "name": "LOCAL_ADULT",
         "text": [
          "43.07",
          "43.39",
          "27.74",
          "24.11",
          "23.79",
          "52.55",
          "48.27",
          "37.11",
          "19.31",
          "25.63",
          "43.66",
          "28.91",
          "7.03",
          "33.93",
          "21.17",
          "14.62",
          "42.17",
          "30.70",
          "16.36",
          "37.87",
          "36.57",
          "4.16",
          "73.00",
          "3.33",
          "112.33",
          "5.00",
          "nan",
          "20.57",
          "27.28",
          "53.45",
          "3.33"
         ],
         "textposition": "top center",
         "type": "scatter",
         "x": [
          "Day 1",
          "Day 2",
          "Day 3",
          "Day 4",
          "Day 5",
          "Day 6",
          "Day 7",
          "Day 8",
          "Day 9",
          "Day 10",
          "Day 11",
          "Day 12",
          "Day 13",
          "Day 14",
          "Day 15",
          "Day 16",
          "Day 17",
          "Day 18",
          "Day 19",
          "Day 20",
          "Day 21",
          "Day 22",
          "Day 23",
          "Day 24",
          "Day 25",
          "Day 26",
          "Day 27",
          "Day 28",
          "Day 29",
          "Day 30",
          "Day 31"
         ],
         "y": [
          43.07414996040707,
          43.390336399711394,
          27.735382244796945,
          24.107862816196146,
          23.79434198679536,
          52.55138305322129,
          48.27073312489979,
          37.10966810966811,
          19.30820105820106,
          25.628615211948546,
          43.657828282828284,
          28.905349794238685,
          7.032407407407407,
          33.933333333333344,
          21.170386904761905,
          14.616402116402115,
          42.166666666666664,
          30.696180555555554,
          16.35887896825397,
          37.87457912457912,
          36.57407407407407,
          4.157407407407407,
          73.00223214285714,
          3.3333333333333335,
          112.33333333333333,
          5,
          null,
          20.572916666666668,
          27.28395061728395,
          53.452380952380956,
          3.3333333333333335
         ]
        },
        {
         "mode": "lines+markers",
         "name": "FOREIGNER",
         "text": [
          "6.67",
          "58.69",
          "156.67",
          "4.17",
          "72.80",
          "42.52",
          "21.46",
          "190.00",
          "26.55",
          "6.67",
          "75.00",
          "35.62",
          "66.90",
          "96.67",
          "39.52",
          "6.67",
          "6.67",
          "nan",
          "8.33",
          "nan",
          "96.67",
          "nan",
          "nan",
          "nan",
          "6.67",
          "50.00",
          "106.67",
          "nan",
          "6.67",
          "8.33",
          "nan"
         ],
         "textposition": "top center",
         "type": "scatter",
         "x": [
          "Day 1",
          "Day 2",
          "Day 3",
          "Day 4",
          "Day 5",
          "Day 6",
          "Day 7",
          "Day 8",
          "Day 9",
          "Day 10",
          "Day 11",
          "Day 12",
          "Day 13",
          "Day 14",
          "Day 15",
          "Day 16",
          "Day 17",
          "Day 18",
          "Day 19",
          "Day 20",
          "Day 21",
          "Day 22",
          "Day 23",
          "Day 24",
          "Day 25",
          "Day 26",
          "Day 27",
          "Day 28",
          "Day 29",
          "Day 30",
          "Day 31"
         ],
         "y": [
          6.666666666666667,
          58.69047619047619,
          156.66666666666666,
          4.166666666666667,
          72.79761904761904,
          42.52469135802469,
          21.458333333333332,
          190,
          26.547619047619047,
          6.666666666666667,
          75,
          35.625,
          66.9047619047619,
          96.66666666666667,
          39.523809523809526,
          6.666666666666667,
          6.666666666666667,
          null,
          8.333333333333334,
          null,
          96.66666666666667,
          null,
          null,
          null,
          6.666666666666667,
          50,
          106.66666666666667,
          null,
          6.666666666666667,
          8.333333333333334,
          null
         ]
        },
        {
         "mode": "lines+markers",
         "name": "Average of All Demographics",
         "text": [
          "32.79",
          "43.67",
          "56.01",
          "26.54",
          "37.81",
          "46.69",
          "39.33",
          "49.83",
          "22.43",
          "19.65",
          "47.52",
          "32.39",
          "33.84",
          "23.83",
          "40.00",
          "15.49",
          "34.24",
          "28.82",
          "28.25",
          "33.85",
          "26.46",
          "18.94",
          "26.79",
          "10.73",
          "31.18",
          "23.48",
          "18.89",
          "21.66",
          "24.24",
          "31.92",
          "1.11"
         ],
         "textposition": "top center",
         "type": "scatter",
         "x": [
          "Day 1",
          "Day 2",
          "Day 3",
          "Day 4",
          "Day 5",
          "Day 6",
          "Day 7",
          "Day 8",
          "Day 9",
          "Day 10",
          "Day 11",
          "Day 12",
          "Day 13",
          "Day 14",
          "Day 15",
          "Day 16",
          "Day 17",
          "Day 18",
          "Day 19",
          "Day 20",
          "Day 21",
          "Day 22",
          "Day 23",
          "Day 24",
          "Day 25",
          "Day 26",
          "Day 27",
          "Day 28",
          "Day 29",
          "Day 30",
          "Day 31"
         ],
         "y": [
          32.78818518518519,
          43.673203703703706,
          56.01001851851852,
          26.535666666666668,
          37.809907407407415,
          46.692,
          39.3257037037037,
          49.82859259259259,
          22.432407407407407,
          19.654074074074074,
          47.524444444444455,
          32.38901851851852,
          33.84038888888889,
          23.828666666666667,
          40.000729166666666,
          15.486092592592593,
          34.2428125,
          28.82431481481482,
          28.252312500000002,
          33.85281481481481,
          26.459870370370368,
          18.935703703703705,
          26.78775,
          10.726229166666666,
          31.17798148148148,
          23.4835,
          18.89420833333333,
          21.656351851851852,
          24.2437037037037,
          31.92459523809524,
          1.1111666666666666
         ]
        }
       ],
       "layout": {
        "legend": {
         "title": {
          "text": "Demographic"
         }
        },
        "template": {
         "data": {
          "bar": [
           {
            "error_x": {
             "color": "#2a3f5f"
            },
            "error_y": {
             "color": "#2a3f5f"
            },
            "marker": {
             "line": {
              "color": "white",
              "width": 0.5
             },
             "pattern": {
              "fillmode": "overlay",
              "size": 10,
              "solidity": 0.2
             }
            },
            "type": "bar"
           }
          ],
          "barpolar": [
           {
            "marker": {
             "line": {
              "color": "white",
              "width": 0.5
             },
             "pattern": {
              "fillmode": "overlay",
              "size": 10,
              "solidity": 0.2
             }
            },
            "type": "barpolar"
           }
          ],
          "carpet": [
           {
            "aaxis": {
             "endlinecolor": "#2a3f5f",
             "gridcolor": "#C8D4E3",
             "linecolor": "#C8D4E3",
             "minorgridcolor": "#C8D4E3",
             "startlinecolor": "#2a3f5f"
            },
            "baxis": {
             "endlinecolor": "#2a3f5f",
             "gridcolor": "#C8D4E3",
             "linecolor": "#C8D4E3",
             "minorgridcolor": "#C8D4E3",
             "startlinecolor": "#2a3f5f"
            },
            "type": "carpet"
           }
          ],
          "choropleth": [
           {
            "colorbar": {
             "outlinewidth": 0,
             "ticks": ""
            },
            "type": "choropleth"
           }
          ],
          "contour": [
           {
            "colorbar": {
             "outlinewidth": 0,
             "ticks": ""
            },
            "colorscale": [
             [
              0,
              "#0d0887"
             ],
             [
              0.1111111111111111,
              "#46039f"
             ],
             [
              0.2222222222222222,
              "#7201a8"
             ],
             [
              0.3333333333333333,
              "#9c179e"
             ],
             [
              0.4444444444444444,
              "#bd3786"
             ],
             [
              0.5555555555555556,
              "#d8576b"
             ],
             [
              0.6666666666666666,
              "#ed7953"
             ],
             [
              0.7777777777777778,
              "#fb9f3a"
             ],
             [
              0.8888888888888888,
              "#fdca26"
             ],
             [
              1,
              "#f0f921"
             ]
            ],
            "type": "contour"
           }
          ],
          "contourcarpet": [
           {
            "colorbar": {
             "outlinewidth": 0,
             "ticks": ""
            },
            "type": "contourcarpet"
           }
          ],
          "heatmap": [
           {
            "colorbar": {
             "outlinewidth": 0,
             "ticks": ""
            },
            "colorscale": [
             [
              0,
              "#0d0887"
             ],
             [
              0.1111111111111111,
              "#46039f"
             ],
             [
              0.2222222222222222,
              "#7201a8"
             ],
             [
              0.3333333333333333,
              "#9c179e"
             ],
             [
              0.4444444444444444,
              "#bd3786"
             ],
             [
              0.5555555555555556,
              "#d8576b"
             ],
             [
              0.6666666666666666,
              "#ed7953"
             ],
             [
              0.7777777777777778,
              "#fb9f3a"
             ],
             [
              0.8888888888888888,
              "#fdca26"
             ],
             [
              1,
              "#f0f921"
             ]
            ],
            "type": "heatmap"
           }
          ],
          "heatmapgl": [
           {
            "colorbar": {
             "outlinewidth": 0,
             "ticks": ""
            },
            "colorscale": [
             [
              0,
              "#0d0887"
             ],
             [
              0.1111111111111111,
              "#46039f"
             ],
             [
              0.2222222222222222,
              "#7201a8"
             ],
             [
              0.3333333333333333,
              "#9c179e"
             ],
             [
              0.4444444444444444,
              "#bd3786"
             ],
             [
              0.5555555555555556,
              "#d8576b"
             ],
             [
              0.6666666666666666,
              "#ed7953"
             ],
             [
              0.7777777777777778,
              "#fb9f3a"
             ],
             [
              0.8888888888888888,
              "#fdca26"
             ],
             [
              1,
              "#f0f921"
             ]
            ],
            "type": "heatmapgl"
           }
          ],
          "histogram": [
           {
            "marker": {
             "pattern": {
              "fillmode": "overlay",
              "size": 10,
              "solidity": 0.2
             }
            },
            "type": "histogram"
           }
          ],
          "histogram2d": [
           {
            "colorbar": {
             "outlinewidth": 0,
             "ticks": ""
            },
            "colorscale": [
             [
              0,
              "#0d0887"
             ],
             [
              0.1111111111111111,
              "#46039f"
             ],
             [
              0.2222222222222222,
              "#7201a8"
             ],
             [
              0.3333333333333333,
              "#9c179e"
             ],
             [
              0.4444444444444444,
              "#bd3786"
             ],
             [
              0.5555555555555556,
              "#d8576b"
             ],
             [
              0.6666666666666666,
              "#ed7953"
             ],
             [
              0.7777777777777778,
              "#fb9f3a"
             ],
             [
              0.8888888888888888,
              "#fdca26"
             ],
             [
              1,
              "#f0f921"
             ]
            ],
            "type": "histogram2d"
           }
          ],
          "histogram2dcontour": [
           {
            "colorbar": {
             "outlinewidth": 0,
             "ticks": ""
            },
            "colorscale": [
             [
              0,
              "#0d0887"
             ],
             [
              0.1111111111111111,
              "#46039f"
             ],
             [
              0.2222222222222222,
              "#7201a8"
             ],
             [
              0.3333333333333333,
              "#9c179e"
             ],
             [
              0.4444444444444444,
              "#bd3786"
             ],
             [
              0.5555555555555556,
              "#d8576b"
             ],
             [
              0.6666666666666666,
              "#ed7953"
             ],
             [
              0.7777777777777778,
              "#fb9f3a"
             ],
             [
              0.8888888888888888,
              "#fdca26"
             ],
             [
              1,
              "#f0f921"
             ]
            ],
            "type": "histogram2dcontour"
           }
          ],
          "mesh3d": [
           {
            "colorbar": {
             "outlinewidth": 0,
             "ticks": ""
            },
            "type": "mesh3d"
           }
          ],
          "parcoords": [
           {
            "line": {
             "colorbar": {
              "outlinewidth": 0,
              "ticks": ""
             }
            },
            "type": "parcoords"
           }
          ],
          "pie": [
           {
            "automargin": true,
            "type": "pie"
           }
          ],
          "scatter": [
           {
            "fillpattern": {
             "fillmode": "overlay",
             "size": 10,
             "solidity": 0.2
            },
            "type": "scatter"
           }
          ],
          "scatter3d": [
           {
            "line": {
             "colorbar": {
              "outlinewidth": 0,
              "ticks": ""
             }
            },
            "marker": {
             "colorbar": {
              "outlinewidth": 0,
              "ticks": ""
             }
            },
            "type": "scatter3d"
           }
          ],
          "scattercarpet": [
           {
            "marker": {
             "colorbar": {
              "outlinewidth": 0,
              "ticks": ""
             }
            },
            "type": "scattercarpet"
           }
          ],
          "scattergeo": [
           {
            "marker": {
             "colorbar": {
              "outlinewidth": 0,
              "ticks": ""
             }
            },
            "type": "scattergeo"
           }
          ],
          "scattergl": [
           {
            "marker": {
             "colorbar": {
              "outlinewidth": 0,
              "ticks": ""
             }
            },
            "type": "scattergl"
           }
          ],
          "scattermapbox": [
           {
            "marker": {
             "colorbar": {
              "outlinewidth": 0,
              "ticks": ""
             }
            },
            "type": "scattermapbox"
           }
          ],
          "scatterpolar": [
           {
            "marker": {
             "colorbar": {
              "outlinewidth": 0,
              "ticks": ""
             }
            },
            "type": "scatterpolar"
           }
          ],
          "scatterpolargl": [
           {
            "marker": {
             "colorbar": {
              "outlinewidth": 0,
              "ticks": ""
             }
            },
            "type": "scatterpolargl"
           }
          ],
          "scatterternary": [
           {
            "marker": {
             "colorbar": {
              "outlinewidth": 0,
              "ticks": ""
             }
            },
            "type": "scatterternary"
           }
          ],
          "surface": [
           {
            "colorbar": {
             "outlinewidth": 0,
             "ticks": ""
            },
            "colorscale": [
             [
              0,
              "#0d0887"
             ],
             [
              0.1111111111111111,
              "#46039f"
             ],
             [
              0.2222222222222222,
              "#7201a8"
             ],
             [
              0.3333333333333333,
              "#9c179e"
             ],
             [
              0.4444444444444444,
              "#bd3786"
             ],
             [
              0.5555555555555556,
              "#d8576b"
             ],
             [
              0.6666666666666666,
              "#ed7953"
             ],
             [
              0.7777777777777778,
              "#fb9f3a"
             ],
             [
              0.8888888888888888,
              "#fdca26"
             ],
             [
              1,
              "#f0f921"
             ]
            ],
            "type": "surface"
           }
          ],
          "table": [
           {
            "cells": {
             "fill": {
              "color": "#EBF0F8"
             },
             "line": {
              "color": "white"
             }
            },
            "header": {
             "fill": {
              "color": "#C8D4E3"
             },
             "line": {
              "color": "white"
             }
            },
            "type": "table"
           }
          ]
         },
         "layout": {
          "annotationdefaults": {
           "arrowcolor": "#2a3f5f",
           "arrowhead": 0,
           "arrowwidth": 1
          },
          "autotypenumbers": "strict",
          "coloraxis": {
           "colorbar": {
            "outlinewidth": 0,
            "ticks": ""
           }
          },
          "colorscale": {
           "diverging": [
            [
             0,
             "#8e0152"
            ],
            [
             0.1,
             "#c51b7d"
            ],
            [
             0.2,
             "#de77ae"
            ],
            [
             0.3,
             "#f1b6da"
            ],
            [
             0.4,
             "#fde0ef"
            ],
            [
             0.5,
             "#f7f7f7"
            ],
            [
             0.6,
             "#e6f5d0"
            ],
            [
             0.7,
             "#b8e186"
            ],
            [
             0.8,
             "#7fbc41"
            ],
            [
             0.9,
             "#4d9221"
            ],
            [
             1,
             "#276419"
            ]
           ],
           "sequential": [
            [
             0,
             "#0d0887"
            ],
            [
             0.1111111111111111,
             "#46039f"
            ],
            [
             0.2222222222222222,
             "#7201a8"
            ],
            [
             0.3333333333333333,
             "#9c179e"
            ],
            [
             0.4444444444444444,
             "#bd3786"
            ],
            [
             0.5555555555555556,
             "#d8576b"
            ],
            [
             0.6666666666666666,
             "#ed7953"
            ],
            [
             0.7777777777777778,
             "#fb9f3a"
            ],
            [
             0.8888888888888888,
             "#fdca26"
            ],
            [
             1,
             "#f0f921"
            ]
           ],
           "sequentialminus": [
            [
             0,
             "#0d0887"
            ],
            [
             0.1111111111111111,
             "#46039f"
            ],
            [
             0.2222222222222222,
             "#7201a8"
            ],
            [
             0.3333333333333333,
             "#9c179e"
            ],
            [
             0.4444444444444444,
             "#bd3786"
            ],
            [
             0.5555555555555556,
             "#d8576b"
            ],
            [
             0.6666666666666666,
             "#ed7953"
            ],
            [
             0.7777777777777778,
             "#fb9f3a"
            ],
            [
             0.8888888888888888,
             "#fdca26"
            ],
            [
             1,
             "#f0f921"
            ]
           ]
          },
          "colorway": [
           "#636efa",
           "#EF553B",
           "#00cc96",
           "#ab63fa",
           "#FFA15A",
           "#19d3f3",
           "#FF6692",
           "#B6E880",
           "#FF97FF",
           "#FECB52"
          ],
          "font": {
           "color": "#2a3f5f"
          },
          "geo": {
           "bgcolor": "white",
           "lakecolor": "white",
           "landcolor": "white",
           "showlakes": true,
           "showland": true,
           "subunitcolor": "#C8D4E3"
          },
          "hoverlabel": {
           "align": "left"
          },
          "hovermode": "closest",
          "mapbox": {
           "style": "light"
          },
          "paper_bgcolor": "white",
          "plot_bgcolor": "white",
          "polar": {
           "angularaxis": {
            "gridcolor": "#EBF0F8",
            "linecolor": "#EBF0F8",
            "ticks": ""
           },
           "bgcolor": "white",
           "radialaxis": {
            "gridcolor": "#EBF0F8",
            "linecolor": "#EBF0F8",
            "ticks": ""
           }
          },
          "scene": {
           "xaxis": {
            "backgroundcolor": "white",
            "gridcolor": "#DFE8F3",
            "gridwidth": 2,
            "linecolor": "#EBF0F8",
            "showbackground": true,
            "ticks": "",
            "zerolinecolor": "#EBF0F8"
           },
           "yaxis": {
            "backgroundcolor": "white",
            "gridcolor": "#DFE8F3",
            "gridwidth": 2,
            "linecolor": "#EBF0F8",
            "showbackground": true,
            "ticks": "",
            "zerolinecolor": "#EBF0F8"
           },
           "zaxis": {
            "backgroundcolor": "white",
            "gridcolor": "#DFE8F3",
            "gridwidth": 2,
            "linecolor": "#EBF0F8",
            "showbackground": true,
            "ticks": "",
            "zerolinecolor": "#EBF0F8"
           }
          },
          "shapedefaults": {
           "line": {
            "color": "#2a3f5f"
           }
          },
          "ternary": {
           "aaxis": {
            "gridcolor": "#DFE8F3",
            "linecolor": "#A2B1C6",
            "ticks": ""
           },
           "baxis": {
            "gridcolor": "#DFE8F3",
            "linecolor": "#A2B1C6",
            "ticks": ""
           },
           "bgcolor": "white",
           "caxis": {
            "gridcolor": "#DFE8F3",
            "linecolor": "#A2B1C6",
            "ticks": ""
           }
          },
          "title": {
           "x": 0.05
          },
          "xaxis": {
           "automargin": true,
           "gridcolor": "#EBF0F8",
           "linecolor": "#EBF0F8",
           "ticks": "",
           "title": {
            "standoff": 15
           },
           "zerolinecolor": "#EBF0F8",
           "zerolinewidth": 2
          },
          "yaxis": {
           "automargin": true,
           "gridcolor": "#EBF0F8",
           "linecolor": "#EBF0F8",
           "ticks": "",
           "title": {
            "standoff": 15
           },
           "zerolinecolor": "#EBF0F8",
           "zerolinewidth": 2
          }
         }
        },
        "title": {
         "text": "VTM"
        },
        "xaxis": {
         "title": {
          "text": "Day"
         }
        },
        "yaxis": {
         "title": {
          "text": "Average Dwell Time (minutes)"
         }
        }
       }
      }
     },
     "metadata": {},
     "output_type": "display_data"
    }
   ],
   "source": [
    "import pandas as pd\n",
    "import plotly.graph_objects as go\n",
    "\n",
    "file_path = 'VTM_31days.xlsx'\n",
    "xls = pd.ExcelFile(file_path)\n",
    "\n",
    "avg_dwell_times = pd.DataFrame()\n",
    "\n",
    "for sheet_name in xls.sheet_names:\n",
    "    day_data = pd.read_excel(xls, sheet_name=sheet_name)\n",
    "    day_data = day_data.drop(columns=[col for col in day_data.columns if \"Unnamed\" in col])\n",
    "    day_data_filtered = day_data[(day_data['Simulation Hour'] >= 10) & (day_data['Simulation Hour'] <= 20)]\n",
    "    avg_for_day = (day_data_filtered[day_data_filtered > 0].mean().drop('Simulation Hour')) / 60\n",
    "    avg_dwell_times[sheet_name] = avg_for_day\n",
    "\n",
    "avg_dwell_times = avg_dwell_times.T\n",
    "avg_dwell_times = avg_dwell_times.drop('Day 1', errors='ignore')\n",
    "avg_dwell_times.index = [f\"Day {i+1}\" for i in range(len(avg_dwell_times))]\n",
    "\n",
    "fig = go.Figure()\n",
    "\n",
    "for demographic in avg_dwell_times.columns:\n",
    "    text_values = [f\"{value:.2f}\" for value in avg_dwell_times[demographic]]\n",
    "    fig.add_trace(go.Scatter(x=avg_dwell_times.index, y=avg_dwell_times[demographic], text=text_values,\n",
    "                             mode='lines+markers', name=demographic, textposition=\"top center\"))\n",
    "\n",
    "fig.update_layout(title='VTM',\n",
    "                  xaxis_title='Day',\n",
    "                  yaxis_title='Average Dwell Time (minutes)',\n",
    "                  legend_title='Demographic',\n",
    "                  template='plotly_white')\n",
    "\n",
    "fig.show()"
   ]
  }
 ],
 "metadata": {
  "kernelspec": {
   "display_name": "Python 3",
   "language": "python",
   "name": "python3"
  },
  "language_info": {
   "codemirror_mode": {
    "name": "ipython",
    "version": 3
   },
   "file_extension": ".py",
   "mimetype": "text/x-python",
   "name": "python",
   "nbconvert_exporter": "python",
   "pygments_lexer": "ipython3",
   "version": "3.11.5"
  }
 },
 "nbformat": 4,
 "nbformat_minor": 2
}
